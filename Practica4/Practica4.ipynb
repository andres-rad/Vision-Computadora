{
 "cells": [
  {
   "cell_type": "markdown",
   "metadata": {},
   "source": [
    "# Práctica 4: Detección de bordes y esquinas"
   ]
  },
  {
   "cell_type": "markdown",
   "metadata": {},
   "source": [
    "### Ejercicio 1\n",
    "Contaminar las imágenes Lena y test con ruido gaussiano aditivo para distintos valores de σ y con ruido Rayleigh multiplicativo para algún ξ > 0."
   ]
  },
  {
   "cell_type": "markdown",
   "metadata": {},
   "source": [
    "### Ejercicio 2\n",
    "Implementar los siguientes detectores de borde y aplicarlos a las versiones contaminadas en el item 1.\n",
    "1. Método del Laplaciano\n",
    "2. Método del Laplaciano con evaluación local de varianza\n",
    "3. Método del Laplaciano del Gaussiano *(Marr - Hildreth)*"
   ]
  },
  {
   "cell_type": "markdown",
   "metadata": {},
   "source": [
    "### Ejercicio 3\n",
    "Implementar el método de Canny. Aplicarlo a imágenes y sus versiones contaminadas con diferentes niveles de ruido Gaussiano, Rayleigh, Exponencial y Sal & Pimienta, usando operadores de gradiente de Roberts, Sobel y Prewitt. \n",
    "\n",
    "Se debe incluir:\n",
    "\n",
    "1. La implementación del método de supresión de no máximos para eliminar múltiples respuestas de borde. Aplicarlo a dos imágenes y a sus versiones contaminadas con ruido.\n",
    "2. La implementación el método de umbralización con histéresis para eliminar respuestas de borde falsas. Aplicarlo a dos imágenes y a sus versiones contaminadas."
   ]
  },
  {
   "cell_type": "markdown",
   "metadata": {},
   "source": [
    "### Ejercicio 4\n",
    "Implementar los siguientes métodos de detección de esquinas:\n",
    "1. Harris\n",
    "2. Szeliski\n",
    "3. Shi - Tomasi\n",
    "4. Triggs"
   ]
  }
 ],
 "metadata": {
  "kernelspec": {
   "display_name": "Python 3",
   "language": "python",
   "name": "python3"
  },
  "language_info": {
   "codemirror_mode": {
    "name": "ipython",
    "version": 3
   },
   "file_extension": ".py",
   "mimetype": "text/x-python",
   "name": "python",
   "nbconvert_exporter": "python",
   "pygments_lexer": "ipython3",
   "version": "3.7.0"
  }
 },
 "nbformat": 4,
 "nbformat_minor": 2
}
